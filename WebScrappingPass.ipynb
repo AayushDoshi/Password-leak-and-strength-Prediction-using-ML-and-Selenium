{
 "cells": [
  {
   "cell_type": "code",
   "execution_count": 17,
   "metadata": {},
   "outputs": [],
   "source": [
    "import pandas as pd\n",
    "import time\n",
    "from selenium import webdriver\n",
    "from selenium.webdriver.common.by import By\n",
    "from selenium.webdriver.common.keys import Keys\n",
    "from selenium.webdriver.support.ui import WebDriverWait\n",
    "from selenium.webdriver.support import expected_conditions as EC"
   ]
  },
  {
   "cell_type": "code",
   "execution_count": 28,
   "metadata": {},
   "outputs": [],
   "source": [
    "ip='akash#%asdzx#$'"
   ]
  },
  {
   "cell_type": "code",
   "execution_count": 32,
   "metadata": {},
   "outputs": [
    {
     "name": "stdout",
     "output_type": "stream",
     "text": [
      "False\n"
     ]
    }
   ],
   "source": [
    "def is_valid_password(password):\n",
    "    \"\"\"\n",
    "    Checks if the given password meets the following criteria:\n",
    "    - At least 8 characters long\n",
    "    - Contains at least one lowercase letter\n",
    "    - Contains at least one uppercase letter\n",
    "    - Contains at least one digit\n",
    "    - Contains at least one special character\n",
    "    \"\"\"\n",
    "    if len(password) < 8:\n",
    "        return False\n",
    "\n",
    "    has_lowercase = any(c.islower() for c in password)\n",
    "    has_uppercase = any(c.isupper() for c in password)\n",
    "    has_digit = any(c.isdigit() for c in password)\n",
    "    has_special = any(not c.isalnum() for c in password)\n",
    "\n",
    "    return all([has_lowercase, has_uppercase, has_digit, has_special])\n",
    "\n",
    "# Example usage\n",
    "password = \"YourPasswordHere\"\n",
    "print(is_valid_password(password))\n"
   ]
  },
  {
   "cell_type": "code",
   "execution_count": 31,
   "metadata": {},
   "outputs": [
    {
     "name": "stderr",
     "output_type": "stream",
     "text": [
      "C:\\Users\\adosh\\AppData\\Local\\Temp\\ipykernel_16100\\180674791.py:2: DeprecationWarning: executable_path has been deprecated, please pass in a Service object\n",
      "  driver = webdriver.Chrome(path)\n"
     ]
    },
    {
     "name": "stdout",
     "output_type": "stream",
     "text": [
      "Unique Password\n"
     ]
    }
   ],
   "source": [
    "path=\"C:\\chromedriver_win32 (1)\"\n",
    "driver = webdriver.Chrome(path)\n",
    "driver.get(\"https://haveibeenpwned.com/Passwords\")\n",
    "loc_box=driver.find_element(By.CLASS_NAME,\"form-control\")\n",
    "loc_box.clear()\n",
    "loc_box.send_keys(ip)\n",
    "\n",
    "button = driver.find_element(By.ID, \"searchPwnedPasswords\")\n",
    "button.click()\n",
    "\n",
    "h2_element = driver.find_element(By.XPATH, \"//h2[contains(text(), 'Good news — no pwnage found!')]\")\n",
    "\n",
    "if h2_element.text == \"Good news — no pwnage found!\":\n",
    "    print(\"Unique Password\")\n",
    "else:\n",
    "    print(\"Password already used\")\n",
    "\n",
    "driver.quit()"
   ]
  }
 ],
 "metadata": {
  "kernelspec": {
   "display_name": "Python 3",
   "language": "python",
   "name": "python3"
  },
  "language_info": {
   "codemirror_mode": {
    "name": "ipython",
    "version": 3
   },
   "file_extension": ".py",
   "mimetype": "text/x-python",
   "name": "python",
   "nbconvert_exporter": "python",
   "pygments_lexer": "ipython3",
   "version": "3.11.2"
  }
 },
 "nbformat": 4,
 "nbformat_minor": 2
}
